{
 "cells": [
  {
   "cell_type": "code",
   "execution_count": 5,
   "metadata": {},
   "outputs": [],
   "source": [
    "import numpy as np\n"
   ]
  },
  {
   "cell_type": "code",
   "execution_count": 2,
   "metadata": {},
   "outputs": [
    {
     "name": "stdout",
     "output_type": "stream",
     "text": [
      "[ 1  2  3  4  5  6  7  8  9 10]\n"
     ]
    }
   ],
   "source": [
    "# Створіть одновимірний масив (вектор) з першими 10-ма натуральними числами та виведіть його значення.\n",
    "\n",
    "v_1 = np.arange(1, 11)\n",
    "print(v_1)"
   ]
  },
  {
   "cell_type": "code",
   "execution_count": 3,
   "metadata": {},
   "outputs": [
    {
     "name": "stdout",
     "output_type": "stream",
     "text": [
      "[[0. 0. 0.]\n",
      " [0. 0. 0.]\n",
      " [0. 0. 0.]]\n"
     ]
    }
   ],
   "source": [
    "# Створіть двовимірний масив (матрицю) розміром 3x3, заповніть його нулями та виведіть його значення.\n",
    "\n",
    "m_1 = np.zeros((3, 3))\n",
    "print(m_1)"
   ]
  },
  {
   "cell_type": "code",
   "execution_count": 4,
   "metadata": {},
   "outputs": [
    {
     "name": "stdout",
     "output_type": "stream",
     "text": [
      "[[9 7 7 1 7]\n",
      " [1 6 6 4 7]\n",
      " [2 9 1 3 2]\n",
      " [6 4 4 2 3]\n",
      " [8 7 6 2 8]]\n"
     ]
    }
   ],
   "source": [
    "# Створення масиву розміром 5x5 з випадковими цілими числами в діапазоні від 1 до 10\n",
    "\n",
    "m_2 = np.random.randint(1, 11, (5, 5))\n",
    "print(m_2)"
   ]
  },
  {
   "cell_type": "code",
   "execution_count": 5,
   "metadata": {},
   "outputs": [
    {
     "name": "stdout",
     "output_type": "stream",
     "text": [
      "[[0.62467292 0.85939236 0.3250813  0.44926985]\n",
      " [0.26838997 0.95499297 0.2694244  0.69786986]\n",
      " [0.70235124 0.65948817 0.81433742 0.72339435]\n",
      " [0.87449926 0.79040788 0.3638972  0.04733518]]\n"
     ]
    }
   ],
   "source": [
    "# Створення масиву розміром 4x4 з випадковими дійсними числами в діапазоні від 0 до 1\n",
    "\n",
    "m_3 = np.random.rand(4, 4)\n",
    "print(m_3)"
   ]
  },
  {
   "cell_type": "code",
   "execution_count": 7,
   "metadata": {},
   "outputs": [
    {
     "name": "stdout",
     "output_type": "stream",
     "text": [
      "[ 7 10  6  6  1]\n",
      "[6 9 8 9 2]\n"
     ]
    }
   ],
   "source": [
    "# Створення двох одновимірних масивів розміром 5 з випадковими цілими числами в діапазоні від 1 до 10\n",
    "\n",
    "v_2 = np.random.randint(1, 11, 5)\n",
    "v_3 = np.random.randint(1, 11, 5)\n",
    "print(v_2)\n",
    "print(v_3)"
   ]
  },
  {
   "cell_type": "code",
   "execution_count": 8,
   "metadata": {},
   "outputs": [
    {
     "name": "stdout",
     "output_type": "stream",
     "text": [
      "[13 19 14 15  3]\n",
      "[ 1  1 -2 -3 -1]\n",
      "[42 90 48 54  2]\n"
     ]
    }
   ],
   "source": [
    "# Поелементні операції додавання, віднімання та множення\n",
    "\n",
    "add = np.add(v_2, v_3)\n",
    "subtract = np.subtract(v_2, v_3)\n",
    "multiply = np.multiply(v_2, v_3)\n",
    "print(add)\n",
    "print(subtract)\n",
    "print(multiply)"
   ]
  },
  {
   "cell_type": "code",
   "execution_count": 9,
   "metadata": {},
   "outputs": [
    {
     "name": "stdout",
     "output_type": "stream",
     "text": [
      "[6 1 1 6 7 9 8]\n",
      "[ 2 10 10  7  2  7  5]\n"
     ]
    }
   ],
   "source": [
    "# Створення двох векторів розміром 7 з довільними числами\n",
    "\n",
    "v_4 = np.random.randint(1, 11, 7)\n",
    "v_5 = np.random.randint(1, 11, 7)\n",
    "print(v_4)\n",
    "print(v_5)"
   ]
  },
  {
   "cell_type": "code",
   "execution_count": 10,
   "metadata": {},
   "outputs": [
    {
     "name": "stdout",
     "output_type": "stream",
     "text": [
      "191\n"
     ]
    }
   ],
   "source": [
    "# Знаходження скалярного добутку\n",
    "\n",
    "dot_product = np.dot(v_4, v_5)\n",
    "print(dot_product)"
   ]
  },
  {
   "cell_type": "code",
   "execution_count": 11,
   "metadata": {},
   "outputs": [
    {
     "name": "stdout",
     "output_type": "stream",
     "text": [
      "[[5 2]\n",
      " [9 1]]\n",
      "[[3 2 6]\n",
      " [1 8 4]]\n"
     ]
    }
   ],
   "source": [
    "# Створення двох матриць розміром 2x2 та 2x3 з випадковими цілими числами\n",
    "\n",
    "m_4 = np.random.randint(1, 11, (2, 2))\n",
    "m_5 = np.random.randint(1, 11, (2, 3))\n",
    "print(m_4)\n",
    "print(m_5)"
   ]
  },
  {
   "cell_type": "code",
   "execution_count": 12,
   "metadata": {},
   "outputs": [
    {
     "name": "stdout",
     "output_type": "stream",
     "text": [
      "[[17 26 38]\n",
      " [28 26 58]]\n"
     ]
    }
   ],
   "source": [
    "# Перемноження матриць\n",
    "\n",
    "m_multiply = np.dot(m_4, m_5)\n",
    "print(m_multiply)"
   ]
  },
  {
   "cell_type": "code",
   "execution_count": 6,
   "metadata": {},
   "outputs": [
    {
     "name": "stdout",
     "output_type": "stream",
     "text": [
      "[[9 8 9]\n",
      " [5 1 9]\n",
      " [7 6 9]]\n",
      "[[ 0.83333333  0.33333333 -1.16666667]\n",
      " [-0.33333333 -0.33333333  0.66666667]\n",
      " [-0.42592593 -0.03703704  0.57407407]]\n"
     ]
    }
   ],
   "source": [
    "# Створіть матрицю розміром 3x3, заповніть її випадковими цілими числами в діапазоні від 1 до 10 та знайдіть її обернену матрицю.\n",
    "\n",
    "m_6 = np.random.randint(1, 11, (3, 3))\n",
    "print(m_6)\n",
    "\n",
    "inverse_m_6 = np.linalg.inv(m_6)\n",
    "print(inverse_m_6)\n",
    "\n"
   ]
  },
  {
   "cell_type": "code",
   "execution_count": 7,
   "metadata": {},
   "outputs": [
    {
     "name": "stdout",
     "output_type": "stream",
     "text": [
      "[[0.34374534 0.62101709 0.84880215 0.47810231]\n",
      " [0.50520479 0.2753544  0.21742023 0.80157248]\n",
      " [0.75716238 0.08364324 0.67319584 0.1668308 ]\n",
      " [0.32152012 0.33593795 0.08148983 0.60928235]]\n",
      "[[0.34374534 0.50520479 0.75716238 0.32152012]\n",
      " [0.62101709 0.2753544  0.08364324 0.33593795]\n",
      " [0.84880215 0.21742023 0.67319584 0.08148983]\n",
      " [0.47810231 0.80157248 0.1668308  0.60928235]]\n"
     ]
    }
   ],
   "source": [
    "# Створіть матрицю розміром 4x4, заповніть її випадковими дійсними числами в діапазоні від 0 до 1 та транспонуйте її.\n",
    "\n",
    "m_7 = np.random.rand(4, 4)\n",
    "print(m_7)\n",
    "\n",
    "transposed_m_7 = np.transpose(m_7)\n",
    "print(transposed_m_7)"
   ]
  },
  {
   "cell_type": "code",
   "execution_count": 8,
   "metadata": {},
   "outputs": [
    {
     "name": "stdout",
     "output_type": "stream",
     "text": [
      "[[10  7  2  3]\n",
      " [ 3  6  4  6]\n",
      " [ 4  8 10  8]]\n",
      "[1 4 6 8]\n",
      "[ 74  99 160]\n"
     ]
    }
   ],
   "source": [
    "# Створіть матрицю розміром 3x4 та вектор розміром 4, заповніть їх випадковими цілими числами в діапазоні від 1 до 10 та перемножте матрицю на вектор.\n",
    "\n",
    "m_10 = np.random.randint(1, 11, (3, 4))\n",
    "print(m_10)\n",
    "\n",
    "v_10 = np.random.randint(1, 11, 4)\n",
    "print(v_10)\n",
    "\n",
    "result = np.dot(m_10, v_10)\n",
    "print(result)"
   ]
  },
  {
   "cell_type": "code",
   "execution_count": 9,
   "metadata": {},
   "outputs": [
    {
     "name": "stdout",
     "output_type": "stream",
     "text": [
      "[[0.03208528 0.31372114 0.21284084]\n",
      " [0.82792789 0.61456935 0.72640556]]\n",
      "[0.52823478 0.6860968  0.6362192 ]\n",
      "[0.36760505 1.32114754]\n"
     ]
    }
   ],
   "source": [
    "# 11. Створіть матрицю розміром 2x3 та вектор розміром 3, заповніть їх випадковими дійсними числами в діапазоні від 0 до 1 та перемножте матрицю на вектор.\n",
    "\n",
    "import numpy as np\n",
    "\n",
    "m_11 = np.random.rand(2, 3)\n",
    "print(m_11)\n",
    "\n",
    "v_11 = np.random.rand(3)\n",
    "print(v_11)\n",
    "\n",
    "result = np.dot(m_11, v_11)\n",
    "print(result)\n"
   ]
  },
  {
   "cell_type": "code",
   "execution_count": 10,
   "metadata": {},
   "outputs": [
    {
     "name": "stdout",
     "output_type": "stream",
     "text": [
      "[[10  2]\n",
      " [ 3  5]]\n",
      "[[2 9]\n",
      " [7 6]]\n",
      "[[20 18]\n",
      " [21 30]]\n"
     ]
    }
   ],
   "source": [
    "# 12. Створіть дві матриці розміром 2x2, заповніть їх випадковими цілими числами в діапазоні від 1 до 10 та виконайте їхнє поелементне множення.\n",
    "\n",
    "m_12_1 = np.random.randint(1, 11, (2, 2))\n",
    "m_12_2 = np.random.randint(1, 11, (2, 2))\n",
    "\n",
    "print(m_12_1)\n",
    "print(m_12_2)\n",
    "\n",
    "result = np.multiply(m_12_1, m_12_2)\n",
    "print(result)"
   ]
  },
  {
   "cell_type": "code",
   "execution_count": 11,
   "metadata": {},
   "outputs": [
    {
     "name": "stdout",
     "output_type": "stream",
     "text": [
      "[[8 1]\n",
      " [8 5]]\n",
      "[[7 7]\n",
      " [6 6]]\n",
      "[[62 62]\n",
      " [86 86]]\n"
     ]
    }
   ],
   "source": [
    "# 13. Створіть дві матриці розміром 2x2, заповніть їх випадковими цілими числами в діапазоні від 1 до 10 та знайдіть їх добуток.\n",
    "\n",
    "m_13_1 = np.random.randint(1, 11, (2, 2))\n",
    "m_13_2 = np.random.randint(1, 11, (2, 2))\n",
    "\n",
    "print(m_13_1)\n",
    "print(m_13_2)\n",
    "\n",
    "result = np.dot(m_13_1, m_13_2)\n",
    "\n",
    "print(result)"
   ]
  },
  {
   "cell_type": "code",
   "execution_count": 12,
   "metadata": {},
   "outputs": [
    {
     "name": "stdout",
     "output_type": "stream",
     "text": [
      "[[81 15 35 10 88]\n",
      " [ 3  5 63  6 63]\n",
      " [54 42 89 56 35]\n",
      " [70 75  6 74 11]\n",
      " [59 76 90 98 23]]\n",
      "1227\n"
     ]
    }
   ],
   "source": [
    "# 14. Створіть матрицю розміром 5x5, заповніть її випадковими цілими числами в діапазоні від 1 до 100 та знайдіть суму елементів матриці.\n",
    "\n",
    "m_14 = np.random.randint(1, 101, (5, 5))\n",
    "print(m_14)\n",
    "\n",
    "sum_m = np.sum(m_14)\n",
    "print(sum_m)"
   ]
  },
  {
   "cell_type": "code",
   "execution_count": 13,
   "metadata": {},
   "outputs": [
    {
     "name": "stdout",
     "output_type": "stream",
     "text": [
      "[[ 9  1  5  6]\n",
      " [ 9  6  6  2]\n",
      " [ 7  7  5  4]\n",
      " [ 7  6 10  9]]\n",
      "[[ 2  7  4  1]\n",
      " [ 3  8  9 10]\n",
      " [10  1  9  2]\n",
      " [ 2  8 10  1]]\n",
      "[[ 7 -6  1  5]\n",
      " [ 6 -2 -3 -8]\n",
      " [-3  6 -4  2]\n",
      " [ 5 -2  0  8]]\n"
     ]
    }
   ],
   "source": [
    "# 15. Створіть дві матриці розміром 4x4, заповніть їх випадковими цілими числами в діапазоні від 1 до 10 та знайдіть їхню різницю.\n",
    "\n",
    "m_15_1 = np.random.randint(1, 11, (4, 4))\n",
    "m_15_2 = np.random.randint(1, 11, (4, 4))\n",
    "print(m_15_1)\n",
    "print(m_15_2)\n",
    "\n",
    "difference_m = m_15_1 - m_15_2\n",
    "print(difference_m)"
   ]
  },
  {
   "cell_type": "code",
   "execution_count": 14,
   "metadata": {},
   "outputs": [
    {
     "name": "stdout",
     "output_type": "stream",
     "text": [
      "[[0.66444634 0.09111154 0.72628083]\n",
      " [0.63154679 0.37098827 0.40163644]\n",
      " [0.14138505 0.9298201  0.23448725]]\n",
      "[1.48183872 1.4041715  1.3056924 ]\n"
     ]
    }
   ],
   "source": [
    "# 16. Створіть матрицю розміром 3x3, заповніть її випадковими дійсними числами в діапазоні від 0 до 1 та знайдіть вектор-стовпчик, що містить суму елементів кожного рядка матриці.\n",
    "\n",
    "m_16 = np.random.rand(3, 3)\n",
    "print(m_16)\n",
    "\n",
    "row_sum_vector = np.sum(m_16, axis=1)\n",
    "print(row_sum_vector)"
   ]
  },
  {
   "cell_type": "code",
   "execution_count": 15,
   "metadata": {},
   "outputs": [
    {
     "name": "stdout",
     "output_type": "stream",
     "text": [
      "[[ 5  2 10  8]\n",
      " [ 6  2  2  7]\n",
      " [ 8  6  9  7]]\n",
      "[[ 25   4 100  64]\n",
      " [ 36   4   4  49]\n",
      " [ 64  36  81  49]]\n"
     ]
    }
   ],
   "source": [
    "# 17. Створіть матрицю розміром 3x4 з довільними цілими числами і створінь матрицю з квадратами цих чисел.\n",
    "\n",
    "m_17 = np.random.randint(1, 11, (3, 4))\n",
    "print(m_17)\n",
    "\n",
    "squared_m_17 = np.square(m_17)\n",
    "print(squared_m_17)"
   ]
  },
  {
   "cell_type": "code",
   "execution_count": 16,
   "metadata": {},
   "outputs": [
    {
     "name": "stdout",
     "output_type": "stream",
     "text": [
      "[19  1  6 26]\n",
      "[4.35889894 1.         2.44948974 5.09901951]\n"
     ]
    }
   ],
   "source": [
    "# 18. Створіть вектор розміром 4, заповніть його випадковими цілими числами в діапазоні від 1 до 50 та знайдіть вектор з квадратними коренями цих чисел.\n",
    "\n",
    "v_18 = np.random.randint(1, 51, 4)\n",
    "print(v_18)\n",
    "\n",
    "sqrt_v_18 = np.sqrt(v_18)\n",
    "print(sqrt_v_18)"
   ]
  }
 ],
 "metadata": {
  "kernelspec": {
   "display_name": "ds1-_rrclqmF-py3.11",
   "language": "python",
   "name": "python3"
  },
  "language_info": {
   "codemirror_mode": {
    "name": "ipython",
    "version": 3
   },
   "file_extension": ".py",
   "mimetype": "text/x-python",
   "name": "python",
   "nbconvert_exporter": "python",
   "pygments_lexer": "ipython3",
   "version": "3.11.4"
  }
 },
 "nbformat": 4,
 "nbformat_minor": 2
}
