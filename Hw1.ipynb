{
 "cells": [
  {
   "cell_type": "code",
   "execution_count": 1,
   "metadata": {},
   "outputs": [],
   "source": [
    "import numpy as np\n"
   ]
  },
  {
   "cell_type": "code",
   "execution_count": 2,
   "metadata": {},
   "outputs": [
    {
     "name": "stdout",
     "output_type": "stream",
     "text": [
      "[ 1  2  3  4  5  6  7  8  9 10]\n"
     ]
    }
   ],
   "source": [
    "# Створіть одновимірний масив (вектор) з першими 10-ма натуральними числами та виведіть його значення.\n",
    "\n",
    "v_1 = np.arange(1, 11)\n",
    "print(v_1)"
   ]
  },
  {
   "cell_type": "code",
   "execution_count": 3,
   "metadata": {},
   "outputs": [
    {
     "name": "stdout",
     "output_type": "stream",
     "text": [
      "[[0. 0. 0.]\n",
      " [0. 0. 0.]\n",
      " [0. 0. 0.]]\n"
     ]
    }
   ],
   "source": [
    "# Створіть двовимірний масив (матрицю) розміром 3x3, заповніть його нулями та виведіть його значення.\n",
    "\n",
    "m_1 = np.zeros((3, 3))\n",
    "print(m_1)"
   ]
  },
  {
   "cell_type": "code",
   "execution_count": 4,
   "metadata": {},
   "outputs": [
    {
     "name": "stdout",
     "output_type": "stream",
     "text": [
      "[[9 7 7 1 7]\n",
      " [1 6 6 4 7]\n",
      " [2 9 1 3 2]\n",
      " [6 4 4 2 3]\n",
      " [8 7 6 2 8]]\n"
     ]
    }
   ],
   "source": [
    "# Створення масиву розміром 5x5 з випадковими цілими числами в діапазоні від 1 до 10\n",
    "\n",
    "m_2 = np.random.randint(1, 11, (5, 5))\n",
    "print(m_2)"
   ]
  },
  {
   "cell_type": "code",
   "execution_count": 5,
   "metadata": {},
   "outputs": [
    {
     "name": "stdout",
     "output_type": "stream",
     "text": [
      "[[0.62467292 0.85939236 0.3250813  0.44926985]\n",
      " [0.26838997 0.95499297 0.2694244  0.69786986]\n",
      " [0.70235124 0.65948817 0.81433742 0.72339435]\n",
      " [0.87449926 0.79040788 0.3638972  0.04733518]]\n"
     ]
    }
   ],
   "source": [
    "# Створення масиву розміром 4x4 з випадковими дійсними числами в діапазоні від 0 до 1\n",
    "\n",
    "m_3 = np.random.rand(4, 4)\n",
    "print(m_3)"
   ]
  },
  {
   "cell_type": "code",
   "execution_count": 7,
   "metadata": {},
   "outputs": [
    {
     "name": "stdout",
     "output_type": "stream",
     "text": [
      "[ 7 10  6  6  1]\n",
      "[6 9 8 9 2]\n"
     ]
    }
   ],
   "source": [
    "# Створення двох одновимірних масивів розміром 5 з випадковими цілими числами в діапазоні від 1 до 10\n",
    "\n",
    "v_2 = np.random.randint(1, 11, 5)\n",
    "v_3 = np.random.randint(1, 11, 5)\n",
    "print(v_2)\n",
    "print(v_3)"
   ]
  },
  {
   "cell_type": "code",
   "execution_count": 8,
   "metadata": {},
   "outputs": [
    {
     "name": "stdout",
     "output_type": "stream",
     "text": [
      "[13 19 14 15  3]\n",
      "[ 1  1 -2 -3 -1]\n",
      "[42 90 48 54  2]\n"
     ]
    }
   ],
   "source": [
    "# Поелементні операції додавання, віднімання та множення\n",
    "\n",
    "add = np.add(v_2, v_3)\n",
    "subtract = np.subtract(v_2, v_3)\n",
    "multiply = np.multiply(v_2, v_3)\n",
    "print(add)\n",
    "print(subtract)\n",
    "print(multiply)"
   ]
  },
  {
   "cell_type": "code",
   "execution_count": 9,
   "metadata": {},
   "outputs": [
    {
     "name": "stdout",
     "output_type": "stream",
     "text": [
      "[6 1 1 6 7 9 8]\n",
      "[ 2 10 10  7  2  7  5]\n"
     ]
    }
   ],
   "source": [
    "# Створення двох векторів розміром 7 з довільними числами\n",
    "\n",
    "v_4 = np.random.randint(1, 11, 7)\n",
    "v_5 = np.random.randint(1, 11, 7)\n",
    "print(v_4)\n",
    "print(v_5)"
   ]
  },
  {
   "cell_type": "code",
   "execution_count": 10,
   "metadata": {},
   "outputs": [
    {
     "name": "stdout",
     "output_type": "stream",
     "text": [
      "191\n"
     ]
    }
   ],
   "source": [
    "# Знаходження скалярного добутку\n",
    "\n",
    "dot_product = np.dot(v_4, v_5)\n",
    "print(dot_product)"
   ]
  },
  {
   "cell_type": "code",
   "execution_count": 11,
   "metadata": {},
   "outputs": [
    {
     "name": "stdout",
     "output_type": "stream",
     "text": [
      "[[5 2]\n",
      " [9 1]]\n",
      "[[3 2 6]\n",
      " [1 8 4]]\n"
     ]
    }
   ],
   "source": [
    "# Створення двох матриць розміром 2x2 та 2x3 з випадковими цілими числами\n",
    "\n",
    "m_4 = np.random.randint(1, 11, (2, 2))\n",
    "m_5 = np.random.randint(1, 11, (2, 3))\n",
    "print(m_4)\n",
    "print(m_5)"
   ]
  },
  {
   "cell_type": "code",
   "execution_count": 12,
   "metadata": {},
   "outputs": [
    {
     "name": "stdout",
     "output_type": "stream",
     "text": [
      "[[17 26 38]\n",
      " [28 26 58]]\n"
     ]
    }
   ],
   "source": [
    "# Перемноження матриць\n",
    "\n",
    "m_multiply = np.dot(m_4, m_5)\n",
    "print(m_multiply)"
   ]
  }
 ],
 "metadata": {
  "kernelspec": {
   "display_name": "ds1-_rrclqmF-py3.11",
   "language": "python",
   "name": "python3"
  },
  "language_info": {
   "codemirror_mode": {
    "name": "ipython",
    "version": 3
   },
   "file_extension": ".py",
   "mimetype": "text/x-python",
   "name": "python",
   "nbconvert_exporter": "python",
   "pygments_lexer": "ipython3",
   "version": "3.11.4"
  }
 },
 "nbformat": 4,
 "nbformat_minor": 2
}
